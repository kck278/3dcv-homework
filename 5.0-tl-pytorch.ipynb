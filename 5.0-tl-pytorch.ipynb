{
 "cells": [
  {
   "cell_type": "markdown",
   "metadata": {},
   "source": [
    "# Exercise 5"
   ]
  },
  {
   "cell_type": "markdown",
   "metadata": {},
   "source": [
    "**Please Note**: We updated the requirements.txt\n",
    "\n",
    "Please install the new requirements before editing this exercise."
   ]
  },
  {
   "cell_type": "markdown",
   "metadata": {},
   "source": [
    "## Import packages"
   ]
  },
  {
   "cell_type": "code",
   "execution_count": 1,
   "metadata": {},
   "outputs": [],
   "source": [
    "import os\n",
    "\n",
    "from vll.utils.download import download_mnist\n",
    "import numpy as np\n",
    "import matplotlib.pyplot as plt\n",
    "\n",
    "import skimage\n",
    "import skimage.io\n",
    "\n",
    "import torch\n",
    "import torch.nn.functional as F\n",
    "from torchvision import transforms\n",
    "\n",
    "from models.mnist.simple_cnn import Net"
   ]
  },
  {
   "cell_type": "markdown",
   "metadata": {},
   "source": [
    "## Task 1\n",
    "(2 points)\n",
    "\n",
    "In this task, you will learn some basic tensor operations using the PyTorch library.\n",
    "\n",
    "Reference for torch: https://pytorch.org/docs/stable/torch.html"
   ]
  },
  {
   "cell_type": "code",
   "execution_count": 2,
   "metadata": {},
   "outputs": [
    {
     "name": "stdout",
     "output_type": "stream",
     "text": [
      "tensor([ 0,  1,  2,  3,  4,  5,  6,  7,  8,  9, 10, 11, 12, 13, 14, 15, 16, 17,\n",
      "        18, 19])\n",
      "tensor([ 0.0000,  0.2939,  1.9895,  2.8501,  2.9589,  0.5283,  0.6956,  6.5897,\n",
      "         6.0642,  5.0008,  9.8460,  8.8789,  0.1206, 10.2872,  3.2218,  5.2325,\n",
      "        10.0050,  8.3022, 13.4113,  2.1100])\n",
      "tensor([-1.0000, -0.7061,  0.9895,  1.8501,  1.9589, -0.4717, -0.3044,  5.5897,\n",
      "         5.0642,  4.0008,  8.8460,  7.8789, -0.8794,  9.2872,  2.2218,  4.2325,\n",
      "         9.0050,  7.3022, 12.4113,  1.1100])\n",
      "tensor(1.9589)\n",
      "tensor([0., 0., 0., 0., 0., 0., 0., 0., 0., 0., 0., 0., 0., 0., 0., 0., 0., 0., 0., 0.])\n"
     ]
    }
   ],
   "source": [
    "# Create a numpy array that looks like this: [0, 1, 2, ..., 19]\n",
    "arr = np.arange(20)\n",
    "\n",
    "# Convert the numpy array to a torch tensor\n",
    "tensor = torch.from_numpy(arr)\n",
    "print(tensor)\n",
    "\n",
    "# Create a tensor that contains random numbers.\n",
    "# It should have the same size like the numpy array.\n",
    "# Multiply it with the previous tensor.\n",
    "rand_tensor = torch.rand(len(arr))\n",
    "tensor = rand_tensor * tensor\n",
    "print(tensor)\n",
    "\n",
    "# Create a tensor that contains only 1s.\n",
    "# It should have the same size like the numpy array.\n",
    "# Substract it from the previous tensor.\n",
    "tensor = tensor - torch.ones(len(tensor))\n",
    "print(tensor)\n",
    "\n",
    "# Get the 5th element using a index.\n",
    "element = tensor[4]\n",
    "print(element)\n",
    "\n",
    "# Create a tensor that contains only 0s.\n",
    "# It should have the same size like the numpy array.\n",
    "# Multiply it with the previous tensor without any assignment (in place).\n",
    "zero_tensor = torch.zeros(len(tensor))\n",
    "zero_tensor.multiply(tensor)\n",
    "print(zero_tensor)"
   ]
  },
  {
   "cell_type": "code",
   "execution_count": 3,
   "metadata": {},
   "outputs": [
    {
     "name": "stdout",
     "output_type": "stream",
     "text": [
      "torch.Size([512, 512, 3])\n",
      "786432\n",
      "torch.Size([1, 786432])\n",
      "torch.Size([786432])\n",
      "torch.Size([512, 512, 3])\n",
      "tensor(91404741., dtype=torch.float64)\n",
      "tensor(116.2271, dtype=torch.float64)\n",
      "tensor(255., dtype=torch.float64)\n"
     ]
    }
   ],
   "source": [
    "# Load the image from the last exercise as RGB image.\n",
    "image = skimage.io.imread(\"./data/pepo.jpg\")\n",
    "image = image.astype(float)\n",
    "\n",
    "# Convert the image to a tensor\n",
    "image = torch.from_numpy(image)\n",
    "\n",
    "# Print its shape\n",
    "print(image.shape)\n",
    "\n",
    "# Flatten the image\n",
    "image = torch.flatten(image)\n",
    "print(len(image))\n",
    "\n",
    "# Add another dimension resulting in a 1x786432 tensor\n",
    "image = torch.unsqueeze(image, 0)\n",
    "print(image.shape)\n",
    "\n",
    "# Revert the last action\n",
    "image = torch.squeeze(image)\n",
    "print(image.shape)\n",
    "\n",
    "# Reshape the tensor, so that it has the original 2D dimensions\n",
    "image = torch.reshape(image, (512, 512, 3))\n",
    "print(image.shape)\n",
    "\n",
    "# Calculate the sum, mean and max of the tensor\n",
    "print(torch.sum(image))\n",
    "print(torch.mean(image))\n",
    "print(torch.max(image))"
   ]
  },
  {
   "cell_type": "markdown",
   "metadata": {},
   "source": [
    "## Task 2\n",
    "(2 points)\n",
    "\n",
    "Use Autograd to perform operations on a tensor and output then gradients."
   ]
  },
  {
   "cell_type": "code",
   "execution_count": 4,
   "metadata": {},
   "outputs": [
    {
     "name": "stdout",
     "output_type": "stream",
     "text": [
      "tensor([[0.0528, 0.1102],\n",
      "        [0.8140, 0.9993]], requires_grad=True)\n",
      "tensor([[2.0528, 2.1102],\n",
      "        [2.8140, 2.9993]], grad_fn=<AddBackward0>)\n",
      "tensor([[4.2141, 4.4529],\n",
      "        [7.9187, 8.9956]], grad_fn=<PowBackward0>)\n",
      "tensor(6.3953, grad_fn=<MeanBackward0>)\n",
      "tensor([[1.0264, 1.0551],\n",
      "        [1.4070, 1.4996]])\n",
      "tensor([[1.0264, 1.0551],\n",
      "        [1.4070, 1.4996]], grad_fn=<MulBackward0>)\n",
      "Pytorch gradients equal to manual gradients: True\n",
      "False\n",
      "tensor(6.3953)\n"
     ]
    }
   ],
   "source": [
    "# Create a random 2x2 tensor which requires gradients\n",
    "x = torch.rand((2,2))\n",
    "x.requires_grad = True\n",
    "print(x)\n",
    "\n",
    "# Create another tensor by adding 2.0\n",
    "y = x + 2\n",
    "print(y)\n",
    "\n",
    "# Create a third tensor z = y^2\n",
    "z = y ** 2\n",
    "print(z)\n",
    "\n",
    "# Compute out as the mean of values in z\n",
    "out = torch.mean(z)\n",
    "print(out)\n",
    "\n",
    "# Perform back propagation on out\n",
    "out.backward()\n",
    "\n",
    "# Print the gradients dout/dx\n",
    "print(x.grad)\n",
    "manual = 1/2 * (x + 2)\n",
    "print(manual)\n",
    "print(\"Pytorch gradients equal to manual gradients: {}\".format(torch.equal(manual, x.grad)))\n",
    "\n",
    "# Create a copy of y whithout gradients\n",
    "y2 = y.detach().clone()\n",
    "print(y2.requires_grad)\n",
    "\n",
    "# Perform the mean operation on z\n",
    "# with gradients globally disabled\n",
    "with torch.no_grad():\n",
    "    mean = torch.mean(z)\n",
    "    print(mean)"
   ]
  },
  {
   "cell_type": "markdown",
   "metadata": {},
   "source": [
    "## Task 3\n",
    "(3 points)\n",
    "\n",
    "Implement a Dataset class for MNIST."
   ]
  },
  {
   "cell_type": "code",
   "execution_count": 5,
   "metadata": {},
   "outputs": [
    {
     "name": "stdout",
     "output_type": "stream",
     "text": [
      "MNIST is ready!\n"
     ]
    }
   ],
   "source": [
    "# We first download the MNIST dataset\n",
    "download_mnist()"
   ]
  },
  {
   "cell_type": "code",
   "execution_count": 31,
   "metadata": {},
   "outputs": [],
   "source": [
    "class MNIST:\n",
    "    \"\"\"\n",
    "    Dataset class for MNIST\n",
    "    \"\"\"\n",
    "\n",
    "    def __init__(self, root, transform=None):\n",
    "        \"\"\"\n",
    "        root -- path to either \"training\" or \"testing\"\n",
    "        \n",
    "        transform -- transform (from torchvision.transforms)\n",
    "                     to be applied to the data\n",
    "        \"\"\"\n",
    "        # save transforms\n",
    "        self.transform = transform\n",
    "        \n",
    "        # TODO: create a list of all subdirectories (named like the classes) \n",
    "        #       within the dataset root\n",
    "        subdirectories = sorted(os.listdir(root))\n",
    "        \n",
    "        # TODO: create a list of paths to all images\n",
    "        #       with the ground truth label\n",
    "        self.images = []\n",
    "        \n",
    "        for directory in subdirectories:\n",
    "            for path in os.listdir(os.path.join(root, directory)):\n",
    "                self.images.append((os.path.join(root, directory, path), directory))\n",
    "    \n",
    "    def __len__(self):\n",
    "        \"\"\"\n",
    "        Returns the lenght of the dataset (number of images)\n",
    "        \"\"\"\n",
    "        # TODO: return the length (number of images) of the dataset\n",
    "        return len(self.images)\n",
    "        \n",
    "\n",
    "    def __getitem__(self, index):\n",
    "        \"\"\"\n",
    "        Loads and returns one image as floating point numpy array\n",
    "        \n",
    "        index -- image index in [0, self.__len__() - 1]\n",
    "        \"\"\"\n",
    "        # TODO: load the ith image as an numpy array (dtype=float32)\n",
    "        path, ground_truth = self.images[index]\n",
    "        image = skimage.io.imread(path)\n",
    "        image = image.astype(np.float32)\n",
    "        \n",
    "        # TODO: apply transforms to the image (if there are any)\n",
    "        transformed_image = self.transform(image)\n",
    "        \n",
    "        # TODO: return a tuple (transformed image, ground truth)\n",
    "        return transformed_image, int(ground_truth)"
   ]
  },
  {
   "cell_type": "markdown",
   "metadata": {},
   "source": [
    "## Task 4\n",
    "(3 points)\n",
    "\n",
    "You can now load a pretrained neural network model we provide.\n",
    "Your last task is to run the model on the MNIST test dataset, plot some example images with the predicted labels and compute the prediction accuracy."
   ]
  },
  {
   "cell_type": "code",
   "execution_count": 54,
   "metadata": {},
   "outputs": [
    {
     "data": {
      "image/png": "[encoded data removed]",
      "text/plain": [
       "<Figure size 432x288 with 100 Axes>"
      ]
     },
     "metadata": {
      "needs_background": "light"
     },
     "output_type": "display_data"
    },
    {
     "name": "stdout",
     "output_type": "stream",
     "text": [
      "Prediction accuracy: 0.982\n"
     ]
    }
   ],
   "source": [
    "def validate(model, data_loader):\n",
    "    # TODO: Create a 10x10 grid of subplots\n",
    "    figure, axes = plt.subplots(10, 10)\n",
    "    \n",
    "    model.eval()\n",
    "    correct = 0 # count for correct predictions\n",
    "    \n",
    "    with torch.no_grad():\n",
    "        for i, item in enumerate(data_loader):\n",
    "            # TODO: unpack item into image and ground truth\n",
    "            #       and run network on them\n",
    "            image, ground_truth = item\n",
    "            output = model(image)            \n",
    "                        \n",
    "            # TODO: get class with highest probability\n",
    "            prediction = torch.argmax(output)\n",
    "            \n",
    "            # TODO: check if prediction is correct\n",
    "            #       and add it to correct count\n",
    "            if prediction == ground_truth:\n",
    "                correct += 1\n",
    "            \n",
    "            # plot the first 100 images\n",
    "            if i < 100:\n",
    "                # TODO: compute position of ith image in the grid\n",
    "                x_pos = i % 10\n",
    "                y_pos = int(i / 10)\n",
    "                \n",
    "                # TODO: convert image tensor to numpy array\n",
    "                #       and normalize to [0, 1]\n",
    "                image_np = image.squeeze().cpu().detach().numpy()\n",
    "                image_np = (image_np - np.min(image_np)) / np.ptp(image_np)\n",
    "                image_np = np.stack((image_np,) * 3, axis= -1)\n",
    "                \n",
    "                # TODO: make wrongly predicted images red\n",
    "                if prediction != ground_truth:\n",
    "                    image_np[np.where((image_np != [0, 0, 0]).all(axis=2))] = [1, 0, 0]\n",
    "                \n",
    "                # TODO: disable axis and show image\n",
    "                axes[x_pos, y_pos].axis('off')\n",
    "                axes[x_pos, y_pos].imshow(image_np, cmap='gray')\n",
    "                \n",
    "                # TODO: show the predicted class next to each image\n",
    "                axes[x_pos, y_pos].text(\n",
    "                    1.3, \n",
    "                    0.5, \n",
    "                    '{}'.format(prediction.cpu().detach().numpy()), \n",
    "                    horizontalalignment='center', \n",
    "                    verticalalignment='center', \n",
    "                    transform=axes[x_pos, y_pos].transAxes\n",
    "                )\n",
    "\n",
    "            \n",
    "            elif i == 100:\n",
    "                plt.show()\n",
    "    \n",
    "    # TODO: compute and print the prediction accuracy in percent\n",
    "    accuracy = correct / len(data_loader)\n",
    "    print('Prediction accuracy: {}'.format(accuracy))\n",
    "\n",
    "# create a DataLoader using the implemented MNIST dataset class\n",
    "data_loader = torch.utils.data.DataLoader(\n",
    "    MNIST(\n",
    "        'data/mnist/testing',\n",
    "        transform=transforms.Compose([\n",
    "            transforms.ToTensor(),\n",
    "            transforms.Normalize((0.1307,), (0.3081,))\n",
    "        ])\n",
    "    ),\n",
    "    batch_size=1, \n",
    "    shuffle=True\n",
    ")\n",
    "\n",
    "# create the neural network\n",
    "model = Net()\n",
    "\n",
    "# load the statedict from 'models/mnist/simple_cnn.pt'\n",
    "model.load_state_dict(torch.load('models/mnist/simple_cnn.pt'))\n",
    "\n",
    "# validate the model\n",
    "validate(model, data_loader)"
   ]
  },
  {
   "cell_type": "code",
   "execution_count": null,
   "metadata": {},
   "outputs": [],
   "source": []
  }
 ],
 "metadata": {
  "kernelspec": {
   "display_name": "cv-homework",
   "language": "python",
   "name": "cv-homework"
  },
  "language_info": {
   "codemirror_mode": {
    "name": "ipython",
    "version": 3
   },
   "file_extension": ".py",
   "mimetype": "text/x-python",
   "name": "python",
   "nbconvert_exporter": "python",
   "pygments_lexer": "ipython3",
   "version": "3.7.11"
  }
 },
 "nbformat": 4,
 "nbformat_minor": 4
}
